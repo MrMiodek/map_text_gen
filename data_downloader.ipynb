{
 "cells": [
  {
   "cell_type": "code",
   "execution_count": 4,
   "metadata": {},
   "outputs": [],
   "source": [
    "import geopandas as gpd\n",
    "\n",
    "from srai.regionizers import SlippyMapRegionizer\n",
    "from srai.constants import WGS84_CRS\n",
    "from srai.loaders.osm_loaders import OSMOnlineLoader\n",
    "from srai.utils import geocode_to_region_gdf\n",
    "import srai.loaders.osm_way_loader as way\n",
    "\n",
    "\n",
    "from shapely.ops import unary_union\n",
    "\n",
    "import os\n",
    "import os.path as path\n",
    "from pathlib import Path\n",
    "\n",
    "import json\n",
    "import togeojsontiles\n",
    "import shutil\n"
   ]
  },
  {
   "cell_type": "code",
   "execution_count": 8,
   "metadata": {},
   "outputs": [],
   "source": [
    "def get_slippy_boundry(city_code, zoom):\n",
    "    print(\"Calculating slippy boundries\")\n",
    "    city_gdf = geocode_to_region_gdf(city_code)\n",
    "    regionizer = SlippyMapRegionizer(zoom)\n",
    "    gdf_slippy = regionizer.transform(city_gdf)\n",
    "    polygons = gdf_slippy['geometry']\n",
    "    boundary = unary_union(polygons)\n",
    "    return boundary, gdf_slippy\n",
    "\n",
    "def download_osm_data(boundary, filter, result_path):\n",
    "    print(\"Downloading OSM data\")\n",
    "    boundary_gdf = gpd.GeoDataFrame(\n",
    "        geometry=[\n",
    "            boundary\n",
    "        ],\n",
    "        crs=WGS84_CRS,\n",
    "    )\n",
    "    loader = OSMOnlineLoader()\n",
    "    data_gdf = loader.load(boundary_gdf, filter)\n",
    "    with open(result_path, \"w\") as file:\n",
    "        file.write(data_gdf.to_json())\n",
    "        \n",
    "def create_tileset(city_dir, city_name, zoom):\n",
    "    print(\"Creating tileset file\")\n",
    "    tippcanoe_command = f\"tippecanoe -o {path.join(city_dir, str(city_name)+'.mbtiles')} -Z {zoom} -z {zoom} {path.join(city_dir, str(city_name)+'.geojson')}\"\n",
    "    os.system(tippcanoe_command)\n",
    "    \n",
    "def decode_tileset(city_dir, tileset_path, tippcanoe_dir = '/usr/local/bin/'):\n",
    "    print(\"Decoding tileset file\")\n",
    "    togeojsontiles.mbtiles_to_geojsontiles(\n",
    "            tippecanoe_dir=tippcanoe_dir,\n",
    "            tile_dir=city_dir,\n",
    "            mbtiles_file=tileset_path\n",
    "        )\n",
    "    \n",
    "def add_geojson (row, city_dir):\n",
    "   x,y,geo,z = row\n",
    "   tile_path = path.join(city_dir, str(z), str(x), f\"{y}.geojson\")\n",
    "   if path.isfile(tile_path):\n",
    "      with open(tile_path, \"r\") as tile_file:\n",
    "         tile = json.load(tile_file)\n",
    "         return tile[\"features\"][0]\n",
    "   else:\n",
    "      return None\n",
    "    \n",
    "def download_city_tiles(city_code, city_name, zoom, filter, result_dir):\n",
    "    \n",
    "    city_dir = path.join(result_dir, city_name)\n",
    "    Path(city_dir).mkdir(parents=True, exist_ok=True)\n",
    "    boundry, gdf_slippy = get_slippy_boundry(city_code, zoom)\n",
    "    \n",
    "    geojson_path = path.join(city_dir, f\"{city_name}.geojson\")\n",
    "    mbtiles_path = path.join(city_dir, f\"{city_name}.mbtiles\")\n",
    "    result_path = path.join(city_dir, f\"{city_name}2.geojson\")\n",
    "    \n",
    "    download_osm_data(boundry, filter, geojson_path)\n",
    "    \n",
    "    create_tileset(city_dir, city_name, zoom)\n",
    "    os.remove(geojson_path)\n",
    "    \n",
    "    decode_tileset(city_dir, mbtiles_path)\n",
    "    os.remove(mbtiles_path)\n",
    "    \n",
    "    gdf_slippy['geojson'] = gdf_slippy.apply (lambda row: add_geojson(row, city_dir), axis=1)\n",
    "    with open(result_path, \"w\") as file:\n",
    "        file.write(gdf_slippy.to_json())\n",
    "    shutil.rmtree(path.join(city_dir, str(zoom)))\n",
    "    return gdf_slippy"
   ]
  },
  {
   "cell_type": "code",
   "execution_count": 6,
   "metadata": {},
   "outputs": [
    {
     "name": "stderr",
     "output_type": "stream",
     "text": [
      "Downloading highway: path          : 100%|██████████| 26/26 [00:26<00:00,  1.01s/it]\n",
      "For layer 0, using name \"Wroclaw\"\n",
      "Warning: Can't represent non-numeric feature ID \"node/7233920472\"\n",
      "103487 features, 3821546 bytes of geometry, 21839 bytes of separate metadata, 250 bytes of string pool\n",
      "  99.9%  18/143473/87646  \n"
     ]
    }
   ],
   "source": [
    "city_code = \"Wrocław, Poland\"\n",
    "city_name = \"Wroclaw\"\n",
    "zoom = 18\n",
    "filter = { 'highway' :\n",
    "    way.osm_way_loader.constants.OSM_WAY_TAGS['highway']}\n",
    "result_dir = path.join(\"data\", \"geotiles2\")\n",
    "download_city_tiles(city_code, city_name, zoom, filter, result_dir)"
   ]
  }
 ],
 "metadata": {
  "kernelspec": {
   "display_name": "Python 3",
   "language": "python",
   "name": "python3"
  },
  "language_info": {
   "codemirror_mode": {
    "name": "ipython",
    "version": 3
   },
   "file_extension": ".py",
   "mimetype": "text/x-python",
   "name": "python",
   "nbconvert_exporter": "python",
   "pygments_lexer": "ipython3",
   "version": "3.10.6"
  },
  "orig_nbformat": 4
 },
 "nbformat": 4,
 "nbformat_minor": 2
}
