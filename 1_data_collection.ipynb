{
 "cells": [
  {
   "cell_type": "code",
   "execution_count": 4,
   "metadata": {},
   "outputs": [],
   "source": [
    "import os.path as path\n",
    "import pandas as pd\n",
    "import srai.loaders.osm_way_loader as way\n",
    "from scripts.data_downloader import download_city_tiles"
   ]
  },
  {
   "cell_type": "code",
   "execution_count": 5,
   "metadata": {},
   "outputs": [],
   "source": [
    "df = pd.read_csv(\"city_list.txt\", delimiter=\";\", header=None, names=['city_code', 'city_name'])"
   ]
  },
  {
   "cell_type": "code",
   "execution_count": null,
   "metadata": {},
   "outputs": [],
   "source": [
    "for _, (city_code, city_name) in df.iterrows():\n",
    "    zoom = 18\n",
    "    osm_filter = { 'highway' :\n",
    "        way.osm_way_loader.constants.OSM_WAY_TAGS['highway']}\n",
    "    result_dir = path.join(\"data\", \"geotiles\")\n",
    "    download_city_tiles(city_code, city_name, zoom, osm_filter, result_dir)"
   ]
  }
 ],
 "metadata": {
  "kernelspec": {
   "display_name": "Python 3",
   "language": "python",
   "name": "python3"
  },
  "language_info": {
   "codemirror_mode": {
    "name": "ipython",
    "version": 3
   },
   "file_extension": ".py",
   "mimetype": "text/x-python",
   "name": "python",
   "nbconvert_exporter": "python",
   "pygments_lexer": "ipython3",
   "version": "3.10.6"
  },
  "orig_nbformat": 4
 },
 "nbformat": 4,
 "nbformat_minor": 2
}
