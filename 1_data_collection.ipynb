{
 "cells": [
  {
   "cell_type": "code",
   "execution_count": 4,
   "metadata": {},
   "outputs": [],
   "source": [
    "import os.path as path\n",
    "import pandas as pd\n",
    "import srai.loaders.osm_way_loader as way\n",
    "from scripts.data_downloader import download_city_tiles"
   ]
  },
  {
   "cell_type": "code",
   "execution_count": 5,
   "metadata": {},
   "outputs": [],
   "source": [
    "df = pd.read_csv(\"city_list.txt\", delimiter=\";\", header=None, names=['city_code', 'city_name'])"
   ]
  },
  {
   "cell_type": "code",
   "execution_count": 7,
   "metadata": {},
   "outputs": [
    {
     "name": "stdout",
     "output_type": "stream",
     "text": [
      "Starting operations for Chișinău\n",
      "Calculating slippy boundries\n",
      "Downloading OSM data\n"
     ]
    },
    {
     "name": "stderr",
     "output_type": "stream",
     "text": [
      "Downloading highway: path          : 100%|██████████| 26/26 [00:40<00:00,  1.56s/it]\n"
     ]
    },
    {
     "name": "stdout",
     "output_type": "stream",
     "text": [
      "Creating tileset file\n"
     ]
    },
    {
     "name": "stderr",
     "output_type": "stream",
     "text": [
      "For layer 0, using name \"Chișinău\"\n",
      "Warning: Can't represent non-numeric feature ID \"relation/8365731\"\n",
      "26208 features, 1094520 bytes of geometry, 9036 bytes of separate metadata, 204 bytes of string pool\n",
      "  99.9%  18/152089/92233  \n"
     ]
    },
    {
     "name": "stdout",
     "output_type": "stream",
     "text": [
      "Decoding tileset file\n",
      "Starting operations for Łódź\n",
      "Calculating slippy boundries\n",
      "Downloading OSM data\n"
     ]
    },
    {
     "name": "stderr",
     "output_type": "stream",
     "text": [
      "Downloading highway: path          : 100%|██████████| 26/26 [00:47<00:00,  1.81s/it]\n"
     ]
    },
    {
     "name": "stdout",
     "output_type": "stream",
     "text": [
      "Creating tileset file\n"
     ]
    },
    {
     "name": "stderr",
     "output_type": "stream",
     "text": [
      "For layer 0, using name \"Łódź\"\n",
      "Warning: Can't represent non-numeric feature ID \"relation/2538909\"\n",
      "95385 features, 3693905 bytes of geometry, 27243 bytes of separate metadata, 250 bytes of string pool\n",
      "  99.9%  18/145244/86907  \n"
     ]
    },
    {
     "name": "stdout",
     "output_type": "stream",
     "text": [
      "Decoding tileset file\n",
      "Starting operations for Ankara\n",
      "Calculating slippy boundries\n",
      "Downloading OSM data\n"
     ]
    },
    {
     "name": "stderr",
     "output_type": "stream",
     "text": [
      "Downloading highway: path          : 100%|██████████| 26/26 [02:38<00:00,  6.08s/it]\n"
     ]
    },
    {
     "name": "stdout",
     "output_type": "stream",
     "text": [
      "Creating tileset file\n"
     ]
    },
    {
     "name": "stderr",
     "output_type": "stream",
     "text": [
      "For layer 0, using name \"Ankara\"\n",
      "Warning: Can't represent non-numeric feature ID \"relation/6229662\"\n",
      "64782 features, 3429162 bytes of geometry, 60546 bytes of separate metadata, 256 bytes of string pool\n",
      "  99.9%  18/154872/99276  \n"
     ]
    },
    {
     "name": "stdout",
     "output_type": "stream",
     "text": [
      "Decoding tileset file\n",
      "Starting operations for Copenhagen\n",
      "Calculating slippy boundries\n",
      "Downloading OSM data\n"
     ]
    },
    {
     "name": "stderr",
     "output_type": "stream",
     "text": [
      "Downloading highway: path          : 100%|██████████| 26/26 [00:38<00:00,  1.49s/it]\n"
     ]
    },
    {
     "name": "stdout",
     "output_type": "stream",
     "text": [
      "Creating tileset file\n"
     ]
    },
    {
     "name": "stderr",
     "output_type": "stream",
     "text": [
      "For layer 0, using name \"Copenhagen\"\n",
      "Warning: Can't represent non-numeric feature ID \"relation/1978958\"\n",
      "31356 features, 1076293 bytes of geometry, 9168 bytes of separate metadata, 247 bytes of string pool\n",
      "  99.9%  18/140168/82077  \n"
     ]
    },
    {
     "name": "stdout",
     "output_type": "stream",
     "text": [
      "Decoding tileset file\n"
     ]
    }
   ],
   "source": [
    "for _, (city_code, city_name) in df.iterrows():\n",
    "    zoom = 18\n",
    "    osm_filter = { 'highway' :\n",
    "        way.osm_way_loader.constants.OSM_WAY_TAGS['highway']}\n",
    "    result_dir = path.join(\"data\", \"geotiles\")\n",
    "    download_city_tiles(city_code, city_name, zoom, osm_filter, result_dir)"
   ]
  }
 ],
 "metadata": {
  "kernelspec": {
   "display_name": "Python 3",
   "language": "python",
   "name": "python3"
  },
  "language_info": {
   "codemirror_mode": {
    "name": "ipython",
    "version": 3
   },
   "file_extension": ".py",
   "mimetype": "text/x-python",
   "name": "python",
   "nbconvert_exporter": "python",
   "pygments_lexer": "ipython3",
   "version": "3.10.6"
  },
  "orig_nbformat": 4
 },
 "nbformat": 4,
 "nbformat_minor": 2
}
