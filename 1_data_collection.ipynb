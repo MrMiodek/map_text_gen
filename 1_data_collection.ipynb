{
 "cells": [
  {
   "cell_type": "code",
   "execution_count": 1,
   "metadata": {},
   "outputs": [],
   "source": [
    "import os.path as path\n",
    "import pandas as pd\n",
    "import srai.loaders.osm_way_loader as way\n",
    "from scripts.data_downloader import download_city_tiles"
   ]
  },
  {
   "cell_type": "code",
   "execution_count": 2,
   "metadata": {},
   "outputs": [],
   "source": [
    "df = pd.read_csv(\"cities.txt\", delimiter=\";\", header=None, names=['city_code', 'city_name'])"
   ]
  },
  {
   "cell_type": "code",
   "execution_count": 3,
   "metadata": {},
   "outputs": [
    {
     "name": "stdout",
     "output_type": "stream",
     "text": [
      "Starting operations for Athens\n",
      "Calculating slippy boundries\n",
      "Downloading OSM data\n"
     ]
    },
    {
     "name": "stderr",
     "output_type": "stream",
     "text": [
      "Downloading highway: path          : 100%|██████████| 26/26 [00:56<00:00,  2.18s/it]\n"
     ]
    },
    {
     "name": "stdout",
     "output_type": "stream",
     "text": [
      "Creating tileset file\n"
     ]
    },
    {
     "name": "stderr",
     "output_type": "stream",
     "text": [
      "For layer 0, using name \"Athens\"\n",
      "Warning: Can't represent non-numeric feature ID \"relation/1609098\"\n",
      "75507 features, 3048034 bytes of geometry, 26974 bytes of separate metadata, 250 bytes of string pool\n",
      "  99.9%  18/148380/101158  \n"
     ]
    },
    {
     "name": "stdout",
     "output_type": "stream",
     "text": [
      "Decoding tileset file\n"
     ]
    }
   ],
   "source": [
    "for _, (city_code, city_name) in df.iterrows():\n",
    "    zoom = 18\n",
    "    filter = { 'highway' :\n",
    "        way.osm_way_loader.constants.OSM_WAY_TAGS['highway']}\n",
    "    result_dir = path.join(\"data\", \"geotiles\")\n",
    "    download_city_tiles(city_code, city_name, zoom, filter, result_dir)"
   ]
  }
 ],
 "metadata": {
  "kernelspec": {
   "display_name": "Python 3",
   "language": "python",
   "name": "python3"
  },
  "language_info": {
   "codemirror_mode": {
    "name": "ipython",
    "version": 3
   },
   "file_extension": ".py",
   "mimetype": "text/x-python",
   "name": "python",
   "nbconvert_exporter": "python",
   "pygments_lexer": "ipython3",
   "version": "3.10.6"
  },
  "orig_nbformat": 4
 },
 "nbformat": 4,
 "nbformat_minor": 2
}
