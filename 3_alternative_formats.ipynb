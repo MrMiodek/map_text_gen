{
 "cells": [
  {
   "cell_type": "code",
   "execution_count": null,
   "metadata": {},
   "outputs": [],
   "source": [
    "import json\n",
    "import geojson\n",
    "from os import path\n",
    "from tqdm import tqdm\n",
    "import pandas as pd\n",
    "import shapely\n",
    "import geopandas as gpd\n",
    "\n",
    "from scripts.geometry_manipulations import add_more_formats"
   ]
  },
  {
   "cell_type": "code",
   "execution_count": null,
   "metadata": {},
   "outputs": [],
   "source": [
    "df = pd.read_csv(\"city_list.txt\", delimiter=\";\", header=None, names=['city_code', 'city_name'])\n",
    "result_dir = path.join(\"data\", \"geotiles\")\n",
    "for _, (_, city_name) in tqdm(df.iterrows()):\n",
    "    city_dir = path.join(result_dir, city_name)\n",
    "    gdf = gpd.read_file(path.join(city_dir, \"rich_gdf.geojson\"))\n",
    "    gdf = gdf.set_index('id')\n",
    "    add_more_formats(city_name, result_dir)"
   ]
  }
 ],
 "metadata": {
  "kernelspec": {
   "display_name": "Python 3",
   "language": "python",
   "name": "python3"
  },
  "language_info": {
   "codemirror_mode": {
    "name": "ipython",
    "version": 3
   },
   "file_extension": ".py",
   "mimetype": "text/x-python",
   "name": "python",
   "nbconvert_exporter": "python",
   "pygments_lexer": "ipython3",
   "version": "3.10.6"
  },
  "orig_nbformat": 4
 },
 "nbformat": 4,
 "nbformat_minor": 2
}
