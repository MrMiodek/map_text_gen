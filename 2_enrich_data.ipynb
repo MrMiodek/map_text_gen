{
 "cells": [
  {
   "cell_type": "code",
   "execution_count": 1,
   "metadata": {},
   "outputs": [],
   "source": [
    "import json\n",
    "from os import path\n",
    "from tqdm import tqdm\n",
    "import pandas as pd\n",
    "import geopandas as gpd\n",
    "\n",
    "from scripts.data_enricher import enrich_data, tag_geometry_data_enrichment"
   ]
  },
  {
   "cell_type": "code",
   "execution_count": null,
   "metadata": {},
   "outputs": [],
   "source": [
    "df = pd.read_csv(\"city_list.txt\", delimiter=\";\", header=None, names=['city_code', 'city_name'])\n",
    "result_dir = path.join(\"data\", \"geotiles\")\n",
    "for _, (_, city_name) in tqdm(df.iterrows()):\n",
    "    enrich_data(city_name, result_dir)"
   ]
  },
  {
   "cell_type": "code",
   "execution_count": null,
   "metadata": {},
   "outputs": [],
   "source": [
    "city_name = \"Wroclaw\"\n",
    "result_dir = path.join(\"data\", \"geotiles\")\n",
    "tag_geometry_data_enrichment(city_name, result_dir)"
   ]
  }
 ],
 "metadata": {
  "kernelspec": {
   "display_name": "Python 3",
   "language": "python",
   "name": "python3"
  },
  "language_info": {
   "codemirror_mode": {
    "name": "ipython",
    "version": 3
   },
   "file_extension": ".py",
   "mimetype": "text/x-python",
   "name": "python",
   "nbconvert_exporter": "python",
   "pygments_lexer": "ipython3",
   "version": "3.10.6"
  },
  "orig_nbformat": 4
 },
 "nbformat": 4,
 "nbformat_minor": 2
}
