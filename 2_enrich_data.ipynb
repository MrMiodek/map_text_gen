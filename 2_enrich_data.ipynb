{
 "cells": [
  {
   "cell_type": "code",
   "execution_count": 4,
   "metadata": {},
   "outputs": [],
   "source": [
    "import json\n",
    "from os import path\n",
    "from tqdm import tqdm\n",
    "import pandas as pd\n",
    "import geopandas as gpd\n",
    "\n",
    "from scripts.data_enricher import enrich_data, tag_geometry_data_enrichment"
   ]
  },
  {
   "cell_type": "code",
   "execution_count": 5,
   "metadata": {},
   "outputs": [
    {
     "name": "stderr",
     "output_type": "stream",
     "text": [
      "0it [00:00, ?it/s]"
     ]
    },
    {
     "name": "stdout",
     "output_type": "stream",
     "text": [
      "Enriching Lisbon data\n",
      "Reading geojson\n",
      "Adding direction data\n",
      "Saving enriched geojson\n"
     ]
    },
    {
     "name": "stderr",
     "output_type": "stream",
     "text": [
      "1it [00:52, 52.13s/it]"
     ]
    },
    {
     "name": "stdout",
     "output_type": "stream",
     "text": [
      "Enriching Vilnius data\n",
      "Reading geojson\n",
      "Adding direction data\n",
      "Saving enriched geojson\n"
     ]
    },
    {
     "name": "stderr",
     "output_type": "stream",
     "text": [
      "2it [06:54, 234.39s/it]"
     ]
    },
    {
     "name": "stdout",
     "output_type": "stream",
     "text": [
      "Enriching Zagreb data\n",
      "Reading geojson\n",
      "Adding direction data\n",
      "Saving enriched geojson\n"
     ]
    },
    {
     "name": "stderr",
     "output_type": "stream",
     "text": [
      "3it [09:22, 187.46s/it]\n"
     ]
    },
    {
     "name": "stdout",
     "output_type": "stream",
     "text": [
      "Enriching nan data\n"
     ]
    },
    {
     "ename": "TypeError",
     "evalue": "join() argument must be str, bytes, or os.PathLike object, not 'float'",
     "output_type": "error",
     "traceback": [
      "\u001b[0;31m---------------------------------------------------------------------------\u001b[0m",
      "\u001b[0;31mTypeError\u001b[0m                                 Traceback (most recent call last)",
      "Cell \u001b[0;32mIn[5], line 4\u001b[0m\n\u001b[1;32m      2\u001b[0m result_dir \u001b[39m=\u001b[39m path\u001b[39m.\u001b[39mjoin(\u001b[39m\"\u001b[39m\u001b[39mdata\u001b[39m\u001b[39m\"\u001b[39m, \u001b[39m\"\u001b[39m\u001b[39mgeotiles\u001b[39m\u001b[39m\"\u001b[39m)\n\u001b[1;32m      3\u001b[0m \u001b[39mfor\u001b[39;00m _, (_, city_name) \u001b[39min\u001b[39;00m tqdm(df\u001b[39m.\u001b[39miterrows()):\n\u001b[0;32m----> 4\u001b[0m     enrich_data(city_name, result_dir)\n",
      "File \u001b[0;32m~/repos/osm_gen/scripts/data_enricher.py:102\u001b[0m, in \u001b[0;36menrich_data\u001b[0;34m(city_name, results_dir)\u001b[0m\n\u001b[1;32m    100\u001b[0m \u001b[39mdef\u001b[39;00m \u001b[39menrich_data\u001b[39m(city_name, results_dir):\n\u001b[1;32m    101\u001b[0m     \u001b[39mprint\u001b[39m(\u001b[39mf\u001b[39m\u001b[39m\"\u001b[39m\u001b[39mEnriching \u001b[39m\u001b[39m{\u001b[39;00mcity_name\u001b[39m}\u001b[39;00m\u001b[39m data\u001b[39m\u001b[39m\"\u001b[39m)\n\u001b[0;32m--> 102\u001b[0m     city_dir \u001b[39m=\u001b[39m path\u001b[39m.\u001b[39;49mjoin(results_dir, city_name)\n\u001b[1;32m    103\u001b[0m     \u001b[39mprint\u001b[39m(\u001b[39m\"\u001b[39m\u001b[39mReading geojson\u001b[39m\u001b[39m\"\u001b[39m)\n\u001b[1;32m    104\u001b[0m     gdf \u001b[39m=\u001b[39m gpd\u001b[39m.\u001b[39mread_file(path\u001b[39m.\u001b[39mjoin(city_dir, \u001b[39mf\u001b[39m\u001b[39m\"\u001b[39m\u001b[39m{\u001b[39;00mcity_name\u001b[39m}\u001b[39;00m\u001b[39m2.geojson\u001b[39m\u001b[39m\"\u001b[39m))\n",
      "File \u001b[0;32m/usr/lib/python3.10/posixpath.py:90\u001b[0m, in \u001b[0;36mjoin\u001b[0;34m(a, *p)\u001b[0m\n\u001b[1;32m     88\u001b[0m             path \u001b[39m+\u001b[39m\u001b[39m=\u001b[39m sep \u001b[39m+\u001b[39m b\n\u001b[1;32m     89\u001b[0m \u001b[39mexcept\u001b[39;00m (\u001b[39mTypeError\u001b[39;00m, \u001b[39mAttributeError\u001b[39;00m, \u001b[39mBytesWarning\u001b[39;00m):\n\u001b[0;32m---> 90\u001b[0m     genericpath\u001b[39m.\u001b[39;49m_check_arg_types(\u001b[39m'\u001b[39;49m\u001b[39mjoin\u001b[39;49m\u001b[39m'\u001b[39;49m, a, \u001b[39m*\u001b[39;49mp)\n\u001b[1;32m     91\u001b[0m     \u001b[39mraise\u001b[39;00m\n\u001b[1;32m     92\u001b[0m \u001b[39mreturn\u001b[39;00m path\n",
      "File \u001b[0;32m/usr/lib/python3.10/genericpath.py:152\u001b[0m, in \u001b[0;36m_check_arg_types\u001b[0;34m(funcname, *args)\u001b[0m\n\u001b[1;32m    150\u001b[0m         hasbytes \u001b[39m=\u001b[39m \u001b[39mTrue\u001b[39;00m\n\u001b[1;32m    151\u001b[0m     \u001b[39melse\u001b[39;00m:\n\u001b[0;32m--> 152\u001b[0m         \u001b[39mraise\u001b[39;00m \u001b[39mTypeError\u001b[39;00m(\u001b[39mf\u001b[39m\u001b[39m'\u001b[39m\u001b[39m{\u001b[39;00mfuncname\u001b[39m}\u001b[39;00m\u001b[39m() argument must be str, bytes, or \u001b[39m\u001b[39m'\u001b[39m\n\u001b[1;32m    153\u001b[0m                         \u001b[39mf\u001b[39m\u001b[39m'\u001b[39m\u001b[39mos.PathLike object, not \u001b[39m\u001b[39m{\u001b[39;00ms\u001b[39m.\u001b[39m\u001b[39m__class__\u001b[39m\u001b[39m.\u001b[39m\u001b[39m__name__\u001b[39m\u001b[39m!r}\u001b[39;00m\u001b[39m'\u001b[39m) \u001b[39mfrom\u001b[39;00m \u001b[39mNone\u001b[39m\n\u001b[1;32m    154\u001b[0m \u001b[39mif\u001b[39;00m hasstr \u001b[39mand\u001b[39;00m hasbytes:\n\u001b[1;32m    155\u001b[0m     \u001b[39mraise\u001b[39;00m \u001b[39mTypeError\u001b[39;00m(\u001b[39m\"\u001b[39m\u001b[39mCan\u001b[39m\u001b[39m'\u001b[39m\u001b[39mt mix strings and bytes in path components\u001b[39m\u001b[39m\"\u001b[39m) \u001b[39mfrom\u001b[39;00m \u001b[39mNone\u001b[39m\n",
      "\u001b[0;31mTypeError\u001b[0m: join() argument must be str, bytes, or os.PathLike object, not 'float'"
     ]
    }
   ],
   "source": [
    "\n",
    "df = pd.read_csv(\"city_list.txt\", delimiter=\";\", header=None, names=['city_code', 'city_name'])\n",
    "result_dir = path.join(\"data\", \"geotiles\")\n",
    "for _, (_, city_name) in tqdm(df.iterrows()):\n",
    "    city_dir = path.join(result_dir, city_name)\n",
    "    gdf = gpd.read_file(path.join(city_dir, f\"{city_name}2.geojson\"))\n",
    "    gdf = gdf.set_index('id')\n",
    "    enrich_data(gdf, city_name, result_dir)"
   ]
  },
  {
   "cell_type": "code",
   "execution_count": null,
   "metadata": {},
   "outputs": [],
   "source": [
    "city_name = \"Wroclaw\"\n",
    "result_dir = path.join(\"data\", \"geotiles\")\n",
    "tag_geometry_data_enrichment(city_name, result_dir)"
   ]
  }
 ],
 "metadata": {
  "kernelspec": {
   "display_name": "Python 3",
   "language": "python",
   "name": "python3"
  },
  "language_info": {
   "codemirror_mode": {
    "name": "ipython",
    "version": 3
   },
   "file_extension": ".py",
   "mimetype": "text/x-python",
   "name": "python",
   "nbconvert_exporter": "python",
   "pygments_lexer": "ipython3",
   "version": "3.10.6"
  },
  "orig_nbformat": 4
 },
 "nbformat": 4,
 "nbformat_minor": 2
}
